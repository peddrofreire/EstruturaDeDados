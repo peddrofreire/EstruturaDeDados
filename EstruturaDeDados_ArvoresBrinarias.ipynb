{
  "nbformat": 4,
  "nbformat_minor": 0,
  "metadata": {
    "colab": {
      "provenance": [],
      "authorship_tag": "ABX9TyMVJEvkSeQXcr58cp6DBaM8",
      "include_colab_link": true
    },
    "kernelspec": {
      "name": "python3",
      "display_name": "Python 3"
    },
    "language_info": {
      "name": "python"
    }
  },
  "cells": [
    {
      "cell_type": "markdown",
      "metadata": {
        "id": "view-in-github",
        "colab_type": "text"
      },
      "source": [
        "<a href=\"https://colab.research.google.com/github/peddrofreire/EstruturaDeDados/blob/main/EstruturaDeDados_ArvoresBrinarias.ipynb\" target=\"_parent\"><img src=\"https://colab.research.google.com/assets/colab-badge.svg\" alt=\"Open In Colab\"/></a>"
      ]
    },
    {
      "cell_type": "code",
      "execution_count": null,
      "metadata": {
        "id": "mPt3pt9jrZFB"
      },
      "outputs": [],
      "source": [
        "class No:\n",
        "    \"\"\"Classe que representa um nó da árvore binária.\"\"\"\n",
        "    def __init__(self, valor):\n",
        "        self.valor = valor  # Valor armazenado no nó\n",
        "        self.esquerda = None  # Referência para o nó da esquerda\n",
        "        self.direita = None  # Referência para o nó da direita\n",
        "\n",
        "\n",
        "class ArvoreBinaria:\n",
        "    \"\"\"Classe que representa uma Árvore Binária de Busca (BST).\"\"\"\n",
        "    def __init__(self):\n",
        "        self.raiz = None  # Inicialmente, a árvore está vazia\n",
        "\n",
        "    def inserir(self, valor):\n",
        "        \"\"\"Insere um valor na árvore mantendo a ordem de busca.\"\"\"\n",
        "        if self.raiz is None:\n",
        "            self.raiz = No(valor)  # Se a árvore está vazia, define a raiz\n",
        "        else:\n",
        "            self._inserir_rec(self.raiz, valor)\n",
        "\n",
        "    def _inserir_rec(self, atual, valor):\n",
        "        \"\"\"Função auxiliar para inserir um nó recursivamente.\"\"\"\n",
        "        if valor < atual.valor:\n",
        "            if atual.esquerda is None:\n",
        "                atual.esquerda = No(valor)  # Insere à esquerda se não houver nó\n",
        "            else:\n",
        "                self._inserir_rec(atual.esquerda, valor)  # Continua descendo\n",
        "        elif valor > atual.valor:\n",
        "            if atual.direita is None:\n",
        "                atual.direita = No(valor)  # Insere à direita se não houver nó\n",
        "            else:\n",
        "                self._inserir_rec(atual.direita, valor)  # Continua descendo\n",
        "\n",
        "    def em_ordem(self):\n",
        "        \"\"\"Percorre a árvore em ordem e exibe os valores.\"\"\"\n",
        "        self._em_ordem_rec(self.raiz)\n",
        "        print()\n",
        "\n",
        "    def _em_ordem_rec(self, atual):\n",
        "        \"\"\"Percorre a árvore de forma recursiva (esquerda, raiz, direita).\"\"\"\n",
        "        if atual is not None:\n",
        "            self._em_ordem_rec(atual.esquerda)\n",
        "            print(atual.valor, end=\" \")\n",
        "            self._em_ordem_rec(atual.direita)\n",
        "\n",
        "\n",
        "# Exemplo de uso da Árvore Binária de Busca\n",
        "arvore = ArvoreBinaria()\n",
        "valores = [50, 30, 70, 20, 40, 60, 80]\n",
        "for v in valores:\n",
        "    arvore.inserir(v)\n",
        "\n",
        "print(\"Elementos da árvore em ordem:\")\n",
        "arvore.em_ordem()  # Saída esperada: 20 30 40 50 60 70 80\n"
      ]
    }
  ]
}