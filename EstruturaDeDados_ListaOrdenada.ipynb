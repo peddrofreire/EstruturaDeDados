{
  "nbformat": 4,
  "nbformat_minor": 0,
  "metadata": {
    "colab": {
      "provenance": [],
      "authorship_tag": "ABX9TyNqKONFwy73Et83JsCaEND0",
      "include_colab_link": true
    },
    "kernelspec": {
      "name": "python3",
      "display_name": "Python 3"
    },
    "language_info": {
      "name": "python"
    }
  },
  "cells": [
    {
      "cell_type": "markdown",
      "metadata": {
        "id": "view-in-github",
        "colab_type": "text"
      },
      "source": [
        "<a href=\"https://colab.research.google.com/github/peddrofreire/EstruturaDeDados/blob/main/EstruturaDeDados_ListaOrdenada.ipynb\" target=\"_parent\"><img src=\"https://colab.research.google.com/assets/colab-badge.svg\" alt=\"Open In Colab\"/></a>"
      ]
    },
    {
      "cell_type": "code",
      "execution_count": 1,
      "metadata": {
        "id": "6Yvbs893pUXa"
      },
      "outputs": [],
      "source": [
        "def insereOrdenado(self, novo_no):\n",
        "    \"\"\"Insere um nó mantendo a lista em ordem crescente.\"\"\"\n",
        "    if self.primeiro is None or novo_no.dado < self.primeiro.dado:\n",
        "        # Se a lista estiver vazia ou o novo nó for menor que o primeiro\n",
        "        novo_no.prox = self.primeiro\n",
        "        self.primeiro = novo_no\n",
        "        if self.ultimo is None:  # Caso a lista estivesse vazia\n",
        "            self.ultimo = novo_no\n",
        "    else:\n",
        "        # Percorre a lista até encontrar a posição correta\n",
        "        atual = self.primeiro\n",
        "        while atual.prox is not None and atual.prox.dado < novo_no.dado:\n",
        "            atual = atual.prox\n",
        "        novo_no.prox = atual.prox\n",
        "        atual.prox = novo_no\n",
        "        if novo_no.prox is None:  # Se for inserido no final\n",
        "            self.ultimo = novo_no\n",
        "    self.qtdNos += 1\n"
      ]
    }
  ]
}