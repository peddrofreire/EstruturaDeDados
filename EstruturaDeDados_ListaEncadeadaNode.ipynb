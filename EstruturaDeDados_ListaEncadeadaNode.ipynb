{
  "nbformat": 4,
  "nbformat_minor": 0,
  "metadata": {
    "colab": {
      "provenance": [],
      "authorship_tag": "ABX9TyMsQ/iAf6OyDZ6CROgm/OIh",
      "include_colab_link": true
    },
    "kernelspec": {
      "name": "python3",
      "display_name": "Python 3"
    },
    "language_info": {
      "name": "python"
    }
  },
  "cells": [
    {
      "cell_type": "markdown",
      "metadata": {
        "id": "view-in-github",
        "colab_type": "text"
      },
      "source": [
        "<a href=\"https://colab.research.google.com/github/peddrofreire/EstruturaDeDados/blob/main/EstruturaDeDados_ListaEncadeadaNode.ipynb\" target=\"_parent\"><img src=\"https://colab.research.google.com/assets/colab-badge.svg\" alt=\"Open In Colab\"/></a>"
      ]
    },
    {
      "cell_type": "code",
      "execution_count": 8,
      "metadata": {
        "id": "2VCwbKndy1Pb"
      },
      "outputs": [],
      "source": [
        "class Node:\n",
        "    \"\"\"\n",
        "    Classe Node para listas encadeadas.\n",
        "    Cada nó contém um valor (item) e uma referência para o próximo nó.\n",
        "    \"\"\"\n",
        "    def __init__(self, item: any):\n",
        "        self.item = item\n",
        "        self.next = None\n",
        "\n",
        "    def __repr__(self):\n",
        "        return f\"Node({self.item})\""
      ]
    },
    {
      "cell_type": "code",
      "source": [
        "class No:\n",
        "    def __init__(self, dado):\n",
        "        self.dado = dado  # Armazena o valor do nó\n",
        "        self.prox = None  # Ponteiro para o próximo nó\n",
        "\n",
        "\n",
        "class ListaEncadeada:\n",
        "    def __init__(self):\n",
        "        self.primeiro = None  # Primeiro nó da lista\n",
        "        self.ultimo = None    # Último nó da lista\n",
        "        self.qtdNos = 0       # Contador de nós\n",
        "\n",
        "    def insereFim(self, novo_no):\n",
        "        \"\"\"Insere um novo nó no final da lista.\"\"\"\n",
        "        novo_no.prox = None  # O novo nó sempre aponta para None (será o último)\n",
        "        if self.primeiro is None:  # Se a lista estiver vazia\n",
        "            self.primeiro = novo_no  # O novo nó será o primeiro nó\n",
        "        else:\n",
        "            self.ultimo.prox = novo_no  # O último nó atual aponta para o novo nó\n",
        "        self.ultimo = novo_no  # O novo nó agora é o último\n",
        "        self.qtdNos += 1  # Atualiza a contagem de nós\n",
        "\n",
        "    def insereInicio(self, novo_no):\n",
        "        \"\"\"Insere um novo nó no início da lista.\"\"\"\n",
        "        novo_no.prox = self.primeiro  # O novo nó aponta para o primeiro nó atual\n",
        "        if self.primeiro is None:  # Se a lista estiver vazia\n",
        "            self.ultimo = novo_no  # O novo nó será também o último nó\n",
        "        self.primeiro = novo_no  # O novo nó agora é o primeiro\n",
        "        self.qtdNos += 1  # Atualiza a contagem de nós\n",
        "\n",
        "    def inserePosicao(self, novo_no, pos):\n",
        "        \"\"\"Insere um novo nó em uma posição específica da lista.\"\"\"\n",
        "        if pos <= 0:  # Se a posição for menor ou igual a 0, insere no início\n",
        "            self.insereInicio(novo_no)\n",
        "        elif pos >= self.qtdNos:  # Se a posição for maior ou igual ao tamanho, insere no final\n",
        "            self.insereFim(novo_no)\n",
        "        else:\n",
        "            aux = self.primeiro  # Começa no primeiro nó\n",
        "            pos_aux = 1\n",
        "            while pos_aux < pos:  # Percorre a lista até a posição desejada\n",
        "                aux = aux.prox\n",
        "                pos_aux += 1\n",
        "            novo_no.prox = aux.prox  # O novo nó aponta para o próximo nó da posição\n",
        "            aux.prox = novo_no  # O nó anterior aponta para o novo nó\n",
        "            self.qtdNos += 1  # Atualiza a contagem de nós\n",
        "\n",
        "    def contaNos(self):\n",
        "        \"\"\"Retorna o total de nós na lista.\"\"\"\n",
        "        tam = 0\n",
        "        aux = self.primeiro\n",
        "        while aux is not None:\n",
        "            tam += 1\n",
        "            aux = aux.prox\n",
        "        return tam\n",
        "\n",
        "    def exibeLista(self):\n",
        "        \"\"\"Exibe todos os elementos da lista encadeada.\"\"\"\n",
        "        aux = self.primeiro\n",
        "        while aux is not None:\n",
        "            print(aux.dado, end=\" -> \")\n",
        "            aux = aux.prox\n",
        "        print(\"None\")\n",
        "\n",
        "\n",
        "# Testando a Lista Encadeada:\n",
        "lista = ListaEncadeada()\n",
        "\n",
        "lista.insereFim(No(10))   # Insere 10 no final\n",
        "lista.insereInicio(No(5)) # Insere 5 no início\n",
        "lista.inserePosicao(No(7), 1) # Insere 7 na posição 1\n",
        "lista.insereFim(No(15))   # Insere 15 no final\n",
        "\n",
        "lista.exibeLista()  # Saída esperada: 5 -> 7 -> 10 -> 15 -> None"
      ],
      "metadata": {
        "colab": {
          "base_uri": "https://localhost:8080/"
        },
        "id": "GrVtA3zTj1td",
        "outputId": "58bede53-f1e4-4874-9dbd-84ed65b9ec05"
      },
      "execution_count": 7,
      "outputs": [
        {
          "output_type": "stream",
          "name": "stdout",
          "text": [
            "5 -> 7 -> 10 -> 15 -> None\n"
          ]
        }
      ]
    },
    {
      "cell_type": "markdown",
      "source": [
        "\n",
        "\n",
        "\n"
      ],
      "metadata": {
        "id": "sD6ryLnR2lXx"
      }
    }
  ]
}


Material de estudos utilizado da apostila "Fundamentos de Estruturas de Dados - UDF". Além disso, foi utilizado 
I.A para melhor entendimento do conteúdo e melhoria de códigos
